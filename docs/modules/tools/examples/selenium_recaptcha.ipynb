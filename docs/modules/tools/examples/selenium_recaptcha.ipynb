{
 "cells": [
  {
   "cell_type": "markdown",
   "metadata": {},
   "source": [
    "# ReCaptcha Solver\n",
    "\n",
    "This notebook presents a demonstration of a ReCaptcha solver powered by Mutlimodal LLMs, showcasing the integration of natural language processing and computer vision with web browsing functionality."
   ]
  },
  {
   "cell_type": "markdown",
   "metadata": {},
   "source": [
    "<video \n",
    "    width=\"1280\"\n",
    "    height=\"720\"\n",
    "    controls>\n",
    "    <source src=\"https://github.com/prof-frink-lab/slangchain/raw/main/docs/modules/tools/examples/media/selenium_recaptcha.mp4\" type=\"video/mp4\"/>\n",
    "</video>"
   ]
  },
  {
   "cell_type": "markdown",
   "metadata": {},
   "source": [
    "## How It Works\n",
    "\n",
    "This code snippet is a Python class named [GoogleRecaptchaWrapper](../../../../slangchain/tools/selenium/tool.py), designed to automate the process of solving Google's reCAPTCHA challenges using Selenium WebDriver. Let's break down how this class works:\n",
    "\n",
    "### Class Structure and Initial Setup\n",
    "- The class defines several attributes with default values and optional types using Pydantic's `Field` for configuration and the Selenium WebDriver elements for interacting with web elements.\n",
    "- It includes settings for timeouts, model description parameters (for Multimodal LLM assistance in interpreting CAPTCHAs), elements of the CAPTCHA challenge (like iframes and checkboxes), and various delays to mimic human interaction.\n",
    "- The class also defines methods for image enhancement, leveraging PIL (Python Imaging Library) for better visibility of CAPTCHA images during processing.\n",
    "\n",
    "### Key Methods and Their Functions\n",
    "1. **`_find_not_robot_iframe`, `_find_recaptcha_checkbox_border_element`, `_wait_recaptcha_iframe`, `_find_image_tiles`, `_find_instructions`, `_find_status_message`, and `_find_submit_button`**:\n",
    "   - These methods are responsible for locating various elements of the reCAPTCHA challenge on the webpage, such as iframes, checkbox borders, image tiles, instructions, status messages, and the submit button. They use Selenium's `WebDriverWait` and `expected_conditions` to ensure elements are present and interactable.\n",
    "<br><br>\n",
    "\n",
    "1. **`click_recaptcha_checkbox_border` and `click_submit_button`**:\n",
    "   - These methods perform click actions on the reCAPTCHA checkbox and the submit button, respectively, using the elements found by the aforementioned methods.\n",
    "<br><br>\n",
    "\n",
    "1. **`_get_ai_website_description` and `_get_website_main_content`**:\n",
    "   - These methods aim to use AI (presumably an external service, modeled by the [Base64ImageStringExplainerChain](../../../../slangchain/chains/image_explainer/base.py)) to interpret the website's content or the CAPTCHA challenge, based on a screenshot converted to a base64-encoded string.\n",
    "<br><br>\n",
    "\n",
    "1. **`_get_image_tile_selection_by_screenshot`**:\n",
    "   - Method thatuses Multimodal LLM interpretation of CAPTCHA images to determine which tiles to select. It prepares a detailed prompt for the AI, receives selections, and handles exceptions.\n",
    "<br><br>\n",
    "\n",
    "1. **`_enhance_image_brightness`, `_enhance_image_contrast`, `_enhance_image_sharpness`, and `_enhance_image`**:\n",
    "   - These methods apply various image enhancements to the CAPTCHA images to potentially improve their readability before processing. They use PIL's image enhancement features.\n",
    "<br><br>\n",
    "\n",
    "1. **`_add_tile_numbers_to_image`, `_convert_image_to_base64`, and `create_image_element_base64`**:\n",
    "   - These methods are involved in processing CAPTCHA images, adding tile numbers to them for easier identification, and converting the images to base64 strings for further processing or AI analysis.\n",
    "<br><br>\n",
    "\n",
    "1. **`_get_image_tile_selection` and `click_image_tiles`**:\n",
    "   - After determining which tiles to select in a CAPTCHA challenge (using AI or manual logic), these methods perform the actual selection by clicking on the appropriate tiles.\n",
    "<br><br>\n",
    "\n",
    "1. **`process_recaptcha`**:\n",
    "   - This is the main method orchestrating the entire process of solving the reCAPTCHA. It sequentially clicks the checkbox, waits for and processes the image CAPTCHA if present, clicks image tiles based on AI or predefined logic, and finally clicks the submit button. It handles various states of the challenge, including success, failure, or absence of CAPTCHA.\n",
    "<br><br>\n",
    "\n",
    "1. **`from_parameters`**:\n",
    "   - A class method to instantiate [GoogleRecaptchaWrapper](../../../../slangchain/tools/selenium/tool.py) with specific parameters, allowing customization of timeouts, AI model settings, and image enhancement settings.\n",
    "<br><br>\n",
    "\n",
    "### Additional Notes\n",
    "- The use of delays and random intervals between actions is an attempt to mimic human interaction with the CAPTCHA challenge, reducing the likelihood of detection by anti-bot measures.\n",
    "\n",
    "This class represents a comprehensive approach to programmatically interact with and attempt to solve Google's reCAPTCHA challenges, leveraging both Selenium for web automation and potentially AI for interpreting complex CAPTCHA images."
   ]
  },
  {
   "cell_type": "markdown",
   "metadata": {},
   "source": [
    "## Example\n",
    "\n",
    "Before we build, let's configure our environment:"
   ]
  },
  {
   "cell_type": "code",
   "execution_count": null,
   "metadata": {},
   "outputs": [],
   "source": [
    "import getpass\n",
    "import os\n",
    "\n",
    "def _set_if_undefined(var: str):\n",
    "  if not os.environ.get(var):\n",
    "    os.environ[var] = getpass(f\"Please provide your {var}\")\n",
    "\n",
    "_set_if_undefined(\"OPENAI_API_KEY\")\n",
    "# _set_if_undefined(\"ANTHROPIC_API_KEY\")"
   ]
  },
  {
   "cell_type": "code",
   "execution_count": null,
   "metadata": {},
   "outputs": [],
   "source": [
    "import sys\n",
    "import logging\n",
    "\n",
    "stream_handler = logging.StreamHandler(sys.stdout)\n",
    "logger = logging.getLogger()\n",
    "logger.setLevel(logging.INFO)\n",
    "logger.addHandler(stream_handler)"
   ]
  },
  {
   "cell_type": "code",
   "execution_count": null,
   "metadata": {},
   "outputs": [],
   "source": [
    "import os\n",
    "from selenium.webdriver import Chrome\n",
    "from selenium.webdriver.chrome.options import Options as ChromeOptions\n",
    "from slangchain.tools.selenium.tool import GoogleRecaptchaWrapper\n",
    "\n",
    "# Model name\n",
    "model_describer_name = \"gpt-4-vision-preview\"\n",
    "# You could choose to use Anthropic's Claude vision model\n",
    "# model_describer_name = \"claude-3-sonnet-20240229\"\n",
    "\n",
    "url = \"https://www.google.com/recaptcha/api2/demo\"\n",
    "driver_timeout = 10\n",
    "window_width = 750\n",
    "window_height = 750\n",
    "\n",
    "chrome_options = ChromeOptions()\n",
    "\n",
    "chrome_options.add_argument((\n",
    "  \"--user-agent=Mozilla/5.0 (Linux; Android 6.0;\"\n",
    "  \" HTC One M9 Build/MRA58K) AppleWebKit/537.36\"\n",
    "  \" (KHTML, like Gecko) Chrome/52.0.2743.98 Mobile Safari/537.36\"))\n",
    "chrome_options.add_argument('--no-sandbox')\n",
    "chrome_options.add_argument('--single-process')\n",
    "chrome_options.add_argument('--disable-dev-shm-usage')\n",
    "chrome_options.add_argument(\"--disable-blink-features=AutomationControlled\")  \n",
    "driver =  Chrome(options=chrome_options)\n",
    "driver.set_window_size(width = window_width, height = window_height)\n",
    "driver.get(url)\n",
    "\n",
    "captcha_tool = GoogleRecaptchaWrapper.from_parameters(\n",
    "  driver = driver,\n",
    "  model_describer_name = model_describer_name,\n",
    "  brightness = 1.0,\n",
    "  temperature = 0)"
   ]
  },
  {
   "cell_type": "code",
   "execution_count": null,
   "metadata": {},
   "outputs": [],
   "source": [
    "\n",
    "captcha_tool.process_recaptcha()"
   ]
  }
 ],
 "metadata": {
  "kernelspec": {
   "display_name": "Python 3",
   "language": "python",
   "name": "python3"
  },
  "language_info": {
   "codemirror_mode": {
    "name": "ipython",
    "version": 3
   },
   "file_extension": ".py",
   "mimetype": "text/x-python",
   "name": "python",
   "nbconvert_exporter": "python",
   "pygments_lexer": "ipython3",
   "version": "3.10.7"
  }
 },
 "nbformat": 4,
 "nbformat_minor": 2
}
