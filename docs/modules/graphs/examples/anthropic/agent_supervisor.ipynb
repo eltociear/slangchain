{
 "cells": [
  {
   "cell_type": "markdown",
   "metadata": {},
   "source": [
    "# Agent Supervisor\n",
    "\n",
    "Inspired by [LangChain](https://github.com/hwchase17/langchain) [Agent Supervisor](https://github.com/langchain-ai/langgraph/blob/main/examples/multi_agent/agent_supervisor.ipynb), The notebook showcases an AgentSupervisor powered by [Anthropic's Claude](https://www.anthropic.com/news/claude-3-family).\n",
    "\n",
    "\n",
    "Below, we will create an agent group, with an agent supervisor to help delegate tasks.\n",
    "\n",
    "![diagram](./img/supervisor-diagram.png)\n",
    "\n",
    "Before we build, let's configure our environment:"
   ]
  },
  {
   "cell_type": "code",
   "execution_count": 1,
   "metadata": {},
   "outputs": [],
   "source": [
    "# %%capture --no-stderr\n",
    "# %pip install -U langchain langchain_anthropic langchain_experimental langgraph pandas"
   ]
  },
  {
   "cell_type": "code",
   "execution_count": 2,
   "metadata": {},
   "outputs": [],
   "source": [
    "import getpass\n",
    "import os\n",
    "\n",
    "def _set_if_undefined(var: str):\n",
    "  if not os.environ.get(var):\n",
    "    os.environ[var] = getpass(f\"Please provide your {var}\")\n",
    "\n",
    "_set_if_undefined(\"ANTHROPIC_API_KEY\")\n",
    "_set_if_undefined(\"TAVILY_API_KEY\")"
   ]
  },
  {
   "cell_type": "markdown",
   "metadata": {},
   "source": [
    "## Create tools\n",
    "\n",
    "For this example, you will make an agent to do web research with a search engine. Define the tools they'll use below:"
   ]
  },
  {
   "cell_type": "code",
   "execution_count": 3,
   "metadata": {},
   "outputs": [],
   "source": [
    "from langchain_community.tools.tavily_search import TavilySearchResults\n",
    "\n",
    "tavily_tool = TavilySearchResults(max_results=5)\n",
    "\n",
    "tools = [ tavily_tool ]"
   ]
  },
  {
   "cell_type": "markdown",
   "metadata": {},
   "source": [
    "## Construct Graph\n",
    "\n",
    "We're ready to start instantiating and invoking the graph using the AgentSupervisor class."
   ]
  },
  {
   "cell_type": "code",
   "execution_count": 4,
   "metadata": {},
   "outputs": [
    {
     "name": "stdout",
     "output_type": "stream",
     "text": [
      "\n",
      "\n",
      "\u001b[1m> Entering new AgentSupervisor chain...\u001b[0m\n",
      "{'supervisor': {'next': 'tavily_search_results_json'}}\n",
      "----\n",
      "\n",
      "\n",
      "\u001b[1m> Entering new AgentExecutor chain...\u001b[0m\n",
      "\u001b[32;1m\u001b[1;3m\n",
      "Invoking: `tavily_search_results_json` with `{'query': 'Apple'}`\n",
      "responded: Let me search for information on Apple:\n",
      "\n",
      "\u001b[0m"
     ]
    }
   ],
   "source": [
    "import sys\n",
    "import logging\n",
    "from langchain.callbacks.stdout import StdOutCallbackHandler\n",
    "\n",
    "from slangchain.llms.chat_anthropic_functions import ChatAnthropicFunctions\n",
    "from slangchain.graphs.anthropic.agent_supervisor import AgentSupervisor\n",
    "\n",
    "llm = ChatAnthropicFunctions(model_name = \"claude-3-haiku-20240307\")\n",
    "\n",
    "stream_handler = logging.StreamHandler(sys.stdout)\n",
    "logger = logging.getLogger()\n",
    "logger.setLevel(logging.INFO)\n",
    "logger.addHandler(stream_handler)\n",
    "\n",
    "callbacks = [StdOutCallbackHandler()]\n",
    "\n",
    "agent_super = AgentSupervisor.from_llm_and_tools(\n",
    "  llm = llm,\n",
    "  tools = tools,\n",
    "  early_stopping_method = \"force\",\n",
    "  recursion_limit = 50,\n",
    "  callbacks = callbacks,\n",
    "  verbosity = True,\n",
    ")\n",
    "result = agent_super.invoke(input={\"input\": \"Who is Apple.\"})\n",
    "logger.info(\"RESULT: %s\", result)"
   ]
  }
 ],
 "metadata": {
  "kernelspec": {
   "display_name": "Python 3 (ipykernel)",
   "language": "python",
   "name": "python3"
  },
  "language_info": {
   "codemirror_mode": {
    "name": "ipython",
    "version": 3
   },
   "file_extension": ".py",
   "mimetype": "text/x-python",
   "name": "python",
   "nbconvert_exporter": "python",
   "pygments_lexer": "ipython3",
   "version": "3.10.7"
  },
  "vscode": {
   "interpreter": {
    "hash": "44a9cdcbdccbf05a880e90d2e6fe72470baab4d1b82472d890be0596ed887a6b"
   }
  }
 },
 "nbformat": 4,
 "nbformat_minor": 2
}
