{
 "cells": [
  {
   "attachments": {},
   "cell_type": "markdown",
   "metadata": {},
   "source": [
    "# DynamoDB Callback\n",
    "\n",
    "The notebook showcases how to use the [StreamingDynamoDBCallbackHandler](./slangchain/callbacks/streaming_aws_ddb.py) class. The functionality streams callbacks to a AWS DyanmoDB table\n",
    "\n",
    "[LangChain](https://github.com/hwchase17/langchain) provides a callback system that allows you to hook into the various stages of your LLM application. This is useful for logging, [monitoring](https://python.langchain.com/en/latest/tracing.html), [streaming](https://python.langchain.com/en/latest/modules/models/llms/examples/streaming_llm.html), and other tasks."
   ]
  },
  {
   "attachments": {},
   "cell_type": "markdown",
   "metadata": {},
   "source": [
    "## Prerequisites\n",
    "\n",
    "- [An AWS account](https://aws.amazon.com/account/sign-up)\n",
    "- [AWS credentials setup](https://docs.aws.amazon.com/cli/latest/userguide/cli-configure-files.html)"
   ]
  },
  {
   "attachments": {},
   "cell_type": "markdown",
   "metadata": {},
   "source": [
    "## AWS Setup\n",
    "\n",
    "Create a test DyanmoDB table for this example."
   ]
  },
  {
   "cell_type": "code",
   "execution_count": 1,
   "metadata": {},
   "outputs": [
    {
     "data": {
      "text/plain": [
       "dynamodb.Table(name='langchain_callback_datastore')"
      ]
     },
     "execution_count": 1,
     "metadata": {},
     "output_type": "execute_result"
    }
   ],
   "source": [
    "import boto3\n",
    "\n",
    "table_name = \"langchain_callback_datastore\"\n",
    "\n",
    "ddb_resource = boto3.resource(\"dynamodb\")\n",
    "ddb_resource.create_table(\n",
    "  TableName = table_name,\n",
    "  KeySchema=[\n",
    "    {'AttributeName': 'partition_key', 'KeyType': 'HASH'},  # Partition key\n",
    "    {'AttributeName': 'sort_key', 'KeyType': 'RANGE'}  # Sort key\n",
    "  ],\n",
    "  AttributeDefinitions=[\n",
    "    {'AttributeName': 'partition_key', 'AttributeType': 'S'},\n",
    "    {'AttributeName': 'sort_key', 'AttributeType': 'S'}\n",
    "  ],\n",
    "  ProvisionedThroughput={'ReadCapacityUnits': 10, 'WriteCapacityUnits': 10}\n",
    ")\n"
   ]
  },
  {
   "attachments": {},
   "cell_type": "markdown",
   "metadata": {},
   "source": [
    "## Example\n",
    "\n",
    "Create an on agent action callback (You might have to wait until the DynamoDB table is created before running the below code)"
   ]
  },
  {
   "cell_type": "code",
   "execution_count": 2,
   "metadata": {},
   "outputs": [],
   "source": [
    "from uuid import uuid4\n",
    "from langchain.schema import AgentAction\n",
    "from slangchain.callbacks.streaming_aws_ddb import StreamingDynamoDBCallbackHandler\n",
    "\n",
    "# set a partition key value\n",
    "partition_key_value = str(uuid4())\n",
    "# set a sort key value\n",
    "sort_key_prefix_value = str(uuid4())\n",
    "\n",
    "handler = StreamingDynamoDBCallbackHandler(\n",
    "    ddb_resource=ddb_resource,\n",
    "    ddb_table_name=table_name,\n",
    "    partition_key_value=partition_key_value,\n",
    "    sort_key_prefix_value=sort_key_prefix_value,\n",
    ")\n",
    "\n",
    "handler.on_agent_action(AgentAction(\"tool\", \"tool_input\", \"log\"))"
   ]
  },
  {
   "attachments": {},
   "cell_type": "markdown",
   "metadata": {},
   "source": [
    "Validate that the item has been created in the DynamoDB table"
   ]
  },
  {
   "cell_type": "code",
   "execution_count": 3,
   "metadata": {},
   "outputs": [
    {
     "data": {
      "text/plain": [
       "DDBPayloadList(__root__=[DDBPayload(partition_key='ca89cb3f-4a3d-4a33-8653-571e1cb4f594', sort_key='9669ebb8-532c-4178-9b58-c6bb441e20a9#0f6e2a0a-29a3-44ae-aba4-5d2496a696d5#1682567010.5875661#AGENT_ACTION#000001', record_type='AGENT_ACTION', timestamp=1682567010.5875661, sequence_number=1, payload={'message': {'tool_input': 'tool_input', 'log': 'log', 'tool': 'tool'}, 'arguments': {}})])"
      ]
     },
     "execution_count": 3,
     "metadata": {},
     "output_type": "execute_result"
    }
   ],
   "source": [
    "from slangchain.aws.dynamodb.base import DDBAppLoader\n",
    "\n",
    "ddb_loader = DDBAppLoader(\n",
    "  ddb_resource=ddb_resource,\n",
    "  table_name=table_name,\n",
    "  partition_key_value=partition_key_value,\n",
    "  sort_key_value=sort_key_prefix_value)\n",
    "\n",
    "ddb_loader.load()"
   ]
  },
  {
   "attachments": {},
   "cell_type": "markdown",
   "metadata": {},
   "source": [
    "Cleaning up AWS resources"
   ]
  },
  {
   "cell_type": "code",
   "execution_count": 4,
   "metadata": {},
   "outputs": [
    {
     "data": {
      "text/plain": [
       "{'TableDescription': {'TableName': 'langchain_callback_datastore',\n",
       "  'TableStatus': 'DELETING',\n",
       "  'ProvisionedThroughput': {'NumberOfDecreasesToday': 0,\n",
       "   'ReadCapacityUnits': 10,\n",
       "   'WriteCapacityUnits': 10},\n",
       "  'TableSizeBytes': 0,\n",
       "  'ItemCount': 0,\n",
       "  'TableArn': 'arn:aws:dynamodb:ap-southeast-2:734145044054:table/langchain_callback_datastore',\n",
       "  'TableId': 'a9da0b0c-eb91-4b46-b0b7-a5967f9cdeeb'},\n",
       " 'ResponseMetadata': {'RequestId': 'J67GHDV1KEUUACPPE47DUJGB9NVV4KQNSO5AEMVJF66Q9ASUAAJG',\n",
       "  'HTTPStatusCode': 200,\n",
       "  'HTTPHeaders': {'server': 'Server',\n",
       "   'date': 'Thu, 27 Apr 2023 03:43:37 GMT',\n",
       "   'content-type': 'application/x-amz-json-1.0',\n",
       "   'content-length': '399',\n",
       "   'connection': 'keep-alive',\n",
       "   'x-amzn-requestid': 'J67GHDV1KEUUACPPE47DUJGB9NVV4KQNSO5AEMVJF66Q9ASUAAJG',\n",
       "   'x-amz-crc32': '3489350072'},\n",
       "  'RetryAttempts': 0}}"
      ]
     },
     "execution_count": 4,
     "metadata": {},
     "output_type": "execute_result"
    }
   ],
   "source": [
    "client = boto3.client(\"dynamodb\")\n",
    "client.delete_table(\n",
    "    TableName=table_name\n",
    ")"
   ]
  }
 ],
 "metadata": {
  "kernelspec": {
   "display_name": "Python 3.10.7 64-bit",
   "language": "python",
   "name": "python3"
  },
  "language_info": {
   "codemirror_mode": {
    "name": "ipython",
    "version": 3
   },
   "file_extension": ".py",
   "mimetype": "text/x-python",
   "name": "python",
   "nbconvert_exporter": "python",
   "pygments_lexer": "ipython3",
   "version": "3.10.7"
  },
  "orig_nbformat": 4,
  "vscode": {
   "interpreter": {
    "hash": "44a9cdcbdccbf05a880e90d2e6fe72470baab4d1b82472d890be0596ed887a6b"
   }
  }
 },
 "nbformat": 4,
 "nbformat_minor": 2
}
