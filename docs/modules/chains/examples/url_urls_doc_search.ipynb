{
 "cells": [
  {
   "attachments": {},
   "cell_type": "markdown",
   "metadata": {},
   "source": [
    "# URL HREF URL Retriever\n",
    "\n",
    "The notebook showcases how to use the UrlUrlsDocSearchChain.\n",
    "\n",
    "In a nutshell, it loads web pages, and retrives the href urls that are most relevant to a search query.\n",
    "\n",
    "The core idea is simple: given a specific query, we should be able to return only the documents relevant to that query, and only the parts of those documents that are relevant."
   ]
  },
  {
   "cell_type": "code",
   "execution_count": 1,
   "metadata": {},
   "outputs": [],
   "source": [
    "# Don't forget to set the OpenAI API key.\n",
    "import os\n",
    "os.environ[\"OPENAI_API_KEY\"] = \"\"\n",
    "os.environ[\"TOKENIZERS_PARALLELISM\"] = \"true\""
   ]
  },
  {
   "attachments": {},
   "cell_type": "markdown",
   "metadata": {},
   "source": [
    "## Web Page HREF Search\n",
    "\n",
    "Below is an example of a search for href urls that have the term \"privacy\""
   ]
  },
  {
   "cell_type": "code",
   "execution_count": 2,
   "metadata": {},
   "outputs": [
    {
     "name": "stderr",
     "output_type": "stream",
     "text": [
      "NOTE: Redirects are currently not supported in Windows or MacOs.\n"
     ]
    },
    {
     "name": "stdout",
     "output_type": "stream",
     "text": [
      "[Document(page_content='\"link_text\": Privacy Policy, \"href\": https://www.bbc.co.uk/usingthebbc/privacy/', metadata={'source': 'https://www.bbc.com/news'}), Document(page_content='know-their-donors', metadata={'source': 'https://www.bbc.com/news'}), Document(page_content='\"link_text\": Five revelations from Nasa\\'s public UFO meeting, \"href\": https://www.bbc.com/news/world-us-canada-65729356', metadata={'source': 'https://www.bbc.com/news'})]\n"
     ]
    }
   ],
   "source": [
    "import nest_asyncio\n",
    "\n",
    "\n",
    "from slangchain.chains.url_urls_doc_search.base import UrlUrlsDocSearchChain\n",
    "from langchain.embeddings.huggingface import HuggingFaceEmbeddings\n",
    "\n",
    "# Allows multi-threaded code to run on a notebook \n",
    "nest_asyncio.apply()\n",
    "\n",
    "# Chunk size for the url content.\n",
    "chunk_size = 100\n",
    "chunk_overlap = 50\n",
    "k = 3\n",
    "\n",
    "embeddings = HuggingFaceEmbeddings()\n",
    "\n",
    "url_urls_search = UrlUrlsDocSearchChain(\n",
    "  embeddings=embeddings,\n",
    "  chunk_size=chunk_size,\n",
    "  chunk_overlap=chunk_overlap,\n",
    "  k=3,\n",
    "  browser_headless_flag=True\n",
    ")\n",
    "content = url_urls_search.run(\"https://www.bbc.com/news|privacy\")\n",
    "print(content)"
   ]
  }
 ],
 "metadata": {
  "kernelspec": {
   "display_name": "Python 3 (ipykernel)",
   "language": "python",
   "name": "python3"
  },
  "language_info": {
   "codemirror_mode": {
    "name": "ipython",
    "version": 3
   },
   "file_extension": ".py",
   "mimetype": "text/x-python",
   "name": "python",
   "nbconvert_exporter": "python",
   "pygments_lexer": "ipython3",
   "version": "3.10.7"
  },
  "vscode": {
   "interpreter": {
    "hash": "44a9cdcbdccbf05a880e90d2e6fe72470baab4d1b82472d890be0596ed887a6b"
   }
  }
 },
 "nbformat": 4,
 "nbformat_minor": 2
}
