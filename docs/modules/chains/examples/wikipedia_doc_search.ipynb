{
 "cells": [
  {
   "attachments": {},
   "cell_type": "markdown",
   "metadata": {},
   "source": [
    "# Wikipedia Contextual Compressions Retriever\n",
    "\n",
    "The notebook showcases how to use the WikipediaDocSearchChain.\n",
    "\n",
    "In a nutshell, it loads Wikipedia pages based on a search query, and retrives the chunks of text that are most relevant to a search query.\n",
    "\n",
    "The search uses [LangChain](https://github.com/hwchase17/langchain) [WikipediaLoader](https://github.com/hwchase17/langchain/blob/master/docs/modules/indexes/document_loaders/examples/wikipedia.ipynb) to retrieve pages most relevant to the search query and [DocumentCompressorPipeline](https://github.com/hwchase17/langchain/blob/master/docs/modules/indexes/retrievers/examples/contextual-compression.ipynb) to return parts of those documents that are relevant."
   ]
  },
  {
   "cell_type": "code",
   "execution_count": null,
   "metadata": {},
   "outputs": [],
   "source": [
    "# Don't forget to set the OpenAI API key.\n",
    "import os\n",
    "os.environ[\"OPENAI_API_KEY\"] = \"\"\n",
    "os.environ[\"TOKENIZERS_PARALLELISM\"] = \"true\""
   ]
  },
  {
   "attachments": {},
   "cell_type": "markdown",
   "metadata": {},
   "source": [
    "## Wikipedia Page Search\n",
    "\n",
    "Below is an example of a search for a professional athelete's \"Number of championships\" from a sports website."
   ]
  },
  {
   "cell_type": "code",
   "execution_count": 30,
   "metadata": {},
   "outputs": [
    {
     "name": "stdout",
     "output_type": "stream",
     "text": [
      "Four players, Bob Cousy, Kareem Abdul-Jabbar, Michael Jordan and Scottie Pippen, won six championships each. Jordan and Pippen are members of the Chicago Bulls team who won three consecutive championships twice in the 1990s. George Mikan won two championships in the NBL before it merged with the BAA to form the NBA, and won five championships in the NBA. Magic Johnson won five championships with the Los Angeles Lakers in the 1980s.\n",
      "Michael Jeffrey Jordan (born February 17, 1963), also known by his initials MJ, is an American former professional basketball player and businessman. His biography on the official National Basketball Association (NBA) website states: \"By acclamation, Michael Jordan is the greatest basketball player of all time.\" He played fifteen seasons in the NBA, winning six NBA championships with the Chicago Bulls. Jordan is the principal owner and chairman of the Charlotte Hornets of the NBA and of 23XI\n",
      "Michael Jordan had spent his entire career with the Chicago Bulls since being drafted in the 1984 NBA Draft by the team with the third overall selection. Eventually, he led the Bulls to three consecutive championships in the 1991, 1992 and 1993 NBA Finals. During each of these championship seasons he was an NBA All-Star, NBA scoring champion, All-NBA Team first team selection, NBA All-Defensive Team first team selection, and the NBA Finals MVP.After Jordan retired following the 1992–93 NBA\n",
      "Michael Jordan was voted the NBA Finals MVP of the series (he also had won the award the last five times the Bulls won the Finals: 1991, 1992, 1993, 1996, and 1997). This would be his sixth NBA championship and sixth Finals MVP award in six full basketball seasons. This would be his final season of winning the NBA championship and Finals MVP.\n"
     ]
    }
   ],
   "source": [
    "from slangchain.chains.wikipedia_doc_search.base import WikipediaDocSearchChain\n",
    "query = \"\"\"Michael Jordans number of NBA championships\"\"\"\n",
    "\n",
    "search_chain = WikipediaDocSearchChain(\n",
    "    load_max_docs=10, chunk_size=500, chunk_overlap=50, similarity_threshold=0.6)\n",
    "contents = search_chain.run(query)\n",
    "for content in contents:\n",
    "  print(content.page_content)"
   ]
  }
 ],
 "metadata": {
  "kernelspec": {
   "display_name": "Python 3 (ipykernel)",
   "language": "python",
   "name": "python3"
  },
  "language_info": {
   "codemirror_mode": {
    "name": "ipython",
    "version": 3
   },
   "file_extension": ".py",
   "mimetype": "text/x-python",
   "name": "python",
   "nbconvert_exporter": "python",
   "pygments_lexer": "ipython3",
   "version": "3.10.7"
  },
  "vscode": {
   "interpreter": {
    "hash": "44a9cdcbdccbf05a880e90d2e6fe72470baab4d1b82472d890be0596ed887a6b"
   }
  }
 },
 "nbformat": 4,
 "nbformat_minor": 2
}
