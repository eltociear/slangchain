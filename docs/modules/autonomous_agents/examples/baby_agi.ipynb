{
 "cells": [
  {
   "attachments": {},
   "cell_type": "markdown",
   "id": "517a9fd4",
   "metadata": {},
   "source": [
    "# Persistent BabyAGI\n",
    "\n",
    "This notebook showcases [PersistentBabyAGI](../../../../slangchain/autonomous_agents/baby_agi.py) that is build on top of [BabyAgi](https://github.com/hwchase17/langchain/blob/master/docs/use_cases/autonomous_agents/baby_agi_with_agent.ipynb).\n",
    "\n",
    "In a nutshell, PersistentBabyAGI extends the functionality for BabyAGI, allowing you to persist the task and task results in the form of Vectorstores. You can pick up where you left off by saving/loading the task and task results Vectorstores."
   ]
  },
  {
   "attachments": {},
   "cell_type": "markdown",
   "id": "556af556",
   "metadata": {},
   "source": [
    "## Install and Import Required Modules"
   ]
  },
  {
   "cell_type": "code",
   "execution_count": 20,
   "id": "c8a354b6",
   "metadata": {},
   "outputs": [],
   "source": [
    "import os\n",
    "from typing import Optional\n",
    "from langchain import PromptTemplate"
   ]
  },
  {
   "attachments": {},
   "cell_type": "markdown",
   "id": "09f70772",
   "metadata": {},
   "source": [
    "## Connect to the Vector Store\n",
    "\n",
    "Depending on what vectorstore you use, this step may look different."
   ]
  },
  {
   "cell_type": "code",
   "execution_count": 2,
   "id": "794045d4",
   "metadata": {},
   "outputs": [
    {
     "name": "stdout",
     "output_type": "stream",
     "text": [
      "\n",
      "\u001b[1m[\u001b[0m\u001b[34;49mnotice\u001b[0m\u001b[1;39;49m]\u001b[0m\u001b[39;49m A new release of pip is available: \u001b[0m\u001b[31;49m23.1.1\u001b[0m\u001b[39;49m -> \u001b[0m\u001b[32;49m23.1.2\u001b[0m\n",
      "\u001b[1m[\u001b[0m\u001b[34;49mnotice\u001b[0m\u001b[1;39;49m]\u001b[0m\u001b[39;49m To update, run: \u001b[0m\u001b[32;49mpip install --upgrade pip\u001b[0m\n",
      "Note: you may need to restart the kernel to use updated packages.\n",
      "\n",
      "\u001b[1m[\u001b[0m\u001b[34;49mnotice\u001b[0m\u001b[1;39;49m]\u001b[0m\u001b[39;49m A new release of pip is available: \u001b[0m\u001b[31;49m23.1.1\u001b[0m\u001b[39;49m -> \u001b[0m\u001b[32;49m23.1.2\u001b[0m\n",
      "\u001b[1m[\u001b[0m\u001b[34;49mnotice\u001b[0m\u001b[1;39;49m]\u001b[0m\u001b[39;49m To update, run: \u001b[0m\u001b[32;49mpip install --upgrade pip\u001b[0m\n",
      "Note: you may need to restart the kernel to use updated packages.\n"
     ]
    }
   ],
   "source": [
    "%pip install faiss-cpu > /dev/null\n",
    "%pip install google-search-results > /dev/null\n",
    "from langchain.vectorstores import FAISS"
   ]
  },
  {
   "attachments": {},
   "cell_type": "markdown",
   "id": "4e0e1478",
   "metadata": {},
   "source": [
    "## Persisting BabyAGI\n"
   ]
  },
  {
   "attachments": {},
   "cell_type": "markdown",
   "id": "c0a36c6f",
   "metadata": {},
   "source": [
    "Don't forget to set the OpenAI API key."
   ]
  },
  {
   "cell_type": "code",
   "execution_count": 3,
   "id": "b1052487",
   "metadata": {},
   "outputs": [],
   "source": [
    "os.environ[\"OPENAI_API_KEY\"] = \"\""
   ]
  },
  {
   "attachments": {},
   "cell_type": "markdown",
   "id": "1c6ef214",
   "metadata": {},
   "source": [
    "### Define the PersistBabyAGI Controller\n",
    "\n",
    "Define the tools and agents for the controller"
   ]
  },
  {
   "cell_type": "code",
   "execution_count": 4,
   "id": "b43cd580",
   "metadata": {},
   "outputs": [],
   "source": [
    "from langchain.agents import ZeroShotAgent, Tool, AgentExecutor\n",
    "from langchain import OpenAI, LLMChain\n",
    "from langchain.agents import load_tools\n",
    "\n",
    "llm = OpenAI(temperature=0)\n",
    "\n",
    "todo_prompt = PromptTemplate.from_template(\n",
    "    \"You are a planner who is an expert at coming up with a todo list for a given objective. Come up with a todo list for this objective: {objective}\"\n",
    ")\n",
    "todo_chain = LLMChain(llm=llm, prompt=todo_prompt)\n",
    "tools = load_tools(tool_names=[\"ddg-search\"])\n",
    "tools.append(\n",
    "    Tool(\n",
    "        name=\"TODO\",\n",
    "        func=todo_chain.run,\n",
    "        description=\"useful for when you need to come up with todo lists. Input: an objective to create a todo list for. Output: a todo list for that objective. Please be very clear what the objective is!\",\n",
    "    ))\n",
    "\n",
    "\n",
    "prefix = \"\"\"You are an AI who performs one task based on the following objective: {objective}. Take into account these previously completed tasks: {context}.\"\"\"\n",
    "\n",
    "suffix = \"\"\"Question: {task}\n",
    "{agent_scratchpad}\"\"\"\n",
    "prompt = ZeroShotAgent.create_prompt(\n",
    "    tools,\n",
    "    prefix=prefix,\n",
    "    suffix=suffix,\n",
    "    input_variables=[\"objective\", \"task\", \"context\", \"agent_scratchpad\"],\n",
    ")\n",
    "\n",
    "agent = ZeroShotAgent.from_llm_and_tools(\n",
    "    llm=llm,\n",
    "    tools=tools,\n",
    "    prefix=prefix,\n",
    "    suffix=suffix,\n",
    "    input_variables=[\"objective\", \"task\", \"context\", \"agent_scratchpad\"],\n",
    "    verbose=True)\n",
    "\n",
    "# Instantiate agent executor\n",
    "execution_chain = AgentExecutor.from_agent_and_tools(\n",
    "    agent=agent,\n",
    "    tools=tools,\n",
    "    verbose=True)"
   ]
  },
  {
   "attachments": {},
   "cell_type": "markdown",
   "id": "05ba762e",
   "metadata": {},
   "source": [
    "### Initial Run - PersistBabyAGI\n",
    "\n",
    "Now it's time to create the PersistBabyAGI controller and watch it try to accomplish your objective."
   ]
  },
  {
   "cell_type": "code",
   "execution_count": 5,
   "id": "3d220b69",
   "metadata": {},
   "outputs": [],
   "source": [
    "OBJECTIVE = \"Write a weather report for SF today\""
   ]
  },
  {
   "cell_type": "code",
   "execution_count": 6,
   "id": "8a8e5543",
   "metadata": {},
   "outputs": [],
   "source": [
    "llm = OpenAI(temperature=0)"
   ]
  },
  {
   "cell_type": "code",
   "execution_count": 7,
   "id": "3d69899b",
   "metadata": {},
   "outputs": [
    {
     "name": "stderr",
     "output_type": "stream",
     "text": [
      "NOTE: Redirects are currently not supported in Windows or MacOs.\n"
     ]
    }
   ],
   "source": [
    "from slangchain.autonomous_agents.baby_agi import PersistentBabyAGI\n",
    "\n",
    "# Logging of LLMChains\n",
    "verbose = True\n",
    "# If None, will keep on going forever\n",
    "max_iterations: Optional[int] = 2\n",
    "baby_agi = PersistentBabyAGI.from_llm_and_vectorstores(\n",
    "    llm=llm, execution_chain=execution_chain, verbose=verbose, max_iterations=max_iterations\n",
    ")"
   ]
  },
  {
   "attachments": {},
   "cell_type": "markdown",
   "id": "a04c1543",
   "metadata": {},
   "source": [
    "- Run BabyAGI for 2 iterations."
   ]
  },
  {
   "cell_type": "code",
   "execution_count": 8,
   "id": "f7957b51",
   "metadata": {
    "scrolled": false
   },
   "outputs": [
    {
     "name": "stdout",
     "output_type": "stream",
     "text": [
      "\n",
      "\n",
      "\u001b[1m> Entering new AgentExecutor chain...\u001b[0m\n",
      "\u001b[32;1m\u001b[1;3mThought: I need to create a todo list\n",
      "Action: TODO\n",
      "Action Input: Create a todo list for writing a weather report for SF today\u001b[0m\n",
      "Observation: \u001b[33;1m\u001b[1;3m\n",
      "\n",
      "1. Research current weather conditions in SF\n",
      "2. Gather data on temperature, humidity, wind speed, and other relevant weather conditions\n",
      "3. Research any upcoming weather changes\n",
      "4. Write a brief introduction to the weather report\n",
      "5. Describe current weather conditions in SF\n",
      "6. Discuss any upcoming weather changes\n",
      "7. Summarize the weather report\n",
      "8. Proofread and edit the report\n",
      "9. Publish the report\u001b[0m\n",
      "Thought:\u001b[32;1m\u001b[1;3m I now know the final answer\n",
      "Final Answer: A todo list for writing a weather report for SF today includes: 1. Research current weather conditions in SF, 2. Gather data on temperature, humidity, wind speed, and other relevant weather conditions, 3. Research any upcoming weather changes, 4. Write a brief introduction to the weather report, 5. Describe current weather conditions in SF, 6. Discuss any upcoming weather changes, 7. Summarize the weather report, 8. Proofread and edit the report, and 9. Publish the report.\u001b[0m\n",
      "\n",
      "\u001b[1m> Finished chain.\u001b[0m\n",
      "\n",
      "\n",
      "\u001b[1m> Entering new TaskCreationChain chain...\u001b[0m\n",
      "Prompt after formatting:\n",
      "\u001b[32;1m\u001b[1;3mYou are an task creation AI that uses the result of an execution agent to create new tasks with the following objective: Write a weather report for SF today, The last completed task has the result: A todo list for writing a weather report for SF today includes: 1. Research current weather conditions in SF, 2. Gather data on temperature, humidity, wind speed, and other relevant weather conditions, 3. Research any upcoming weather changes, 4. Write a brief introduction to the weather report, 5. Describe current weather conditions in SF, 6. Discuss any upcoming weather changes, 7. Summarize the weather report, 8. Proofread and edit the report, and 9. Publish the report.. This result was based on this task description: Make a todo list. These are incomplete tasks: . Based on the result, create new tasks to be completed by the AI system that do not overlap with incomplete tasks. Return the tasks as an array.\u001b[0m\n",
      "\n",
      "\u001b[1m> Finished chain.\u001b[0m\n",
      "\n",
      "\n",
      "\u001b[1m> Entering new TaskPrioritizationChain chain...\u001b[0m\n",
      "Prompt after formatting:\n",
      "\u001b[32;1m\u001b[1;3mYou are a task prioritization AI tasked with cleaning the formatting of and reprioritizing the following tasks: ['1. Research current weather forecasts for SF', '2. Gather data on precipitation, cloud cover, and other relevant weather conditions', '3. Analyze the data to determine any upcoming weather changes', '4. Create a visual representation of the weather report', '5. Write a conclusion for the weather report', '6. Format the report for publication', '7. Submit the report to a weather service for review', '8. Publish the report on a website or other platform']. Consider the ultimate objective of your team: Write a weather report for SF today. Do not remove any tasks. Return the result as a numbered list, like: #. First task #. Second task Start the task list with number 2.\u001b[0m\n",
      "\n",
      "\u001b[1m> Finished chain.\u001b[0m\n",
      "\n",
      "\n",
      "\u001b[1m> Entering new AgentExecutor chain...\u001b[0m\n",
      "\u001b[32;1m\u001b[1;3mThought: I should look for a source of weather data\n",
      "Action: DuckDuckGo Search\n",
      "Action Input: Weather report for SF today\u001b[0m\n",
      "Observation: \u001b[36;1m\u001b[1;3mLow temperatures will be in the mid to upper 40s. Tomorrow will be partly cloudy to mostly sunny, with highs ranging from upper 50s at the coast to mid 60s near the bay to around 70 degrees inland ... Monday evening First Alert Weather forecast - 5/8/23. with Paul Heggen. 4H ago. 03:26. San Francisco Weather Forecasts. Weather Underground provides local & long-range weather forecasts, weatherreports, maps & tropical weather conditions for the San Francisco area. Weather Forecast For The San Francisco Bay Area. May 5, 2023. Friday will be mostly cloudy with highs in the mid 50s to the lower 60s. Southwest winds will be 5 to 15 mph. Friday night will be ... Here's what to expect. The forecast rainfall totals for Tuesday across the Bay Area, with up to half an inch of rain possible along parts of the coast while inland residents can expect anywhere ...\u001b[0m\n",
      "Thought:\u001b[32;1m\u001b[1;3m I now know the final answer\n",
      "Final Answer: Today in San Francisco, temperatures will be in the mid to upper 40s. Tomorrow will be partly cloudy to mostly sunny, with highs ranging from upper 50s at the coast to mid 60s near the bay to around 70 degrees inland. Southwest winds will be 5 to 15 mph. Friday night will be mostly cloudy with highs in the mid 50s to the lower 60s. There is a chance of up to half an inch of rain possible along parts of the coast while inland residents can expect anywhere from a trace to a tenth of an inch.\u001b[0m\n",
      "\n",
      "\u001b[1m> Finished chain.\u001b[0m\n",
      "\n",
      "\n",
      "\u001b[1m> Entering new TaskCreationChain chain...\u001b[0m\n",
      "Prompt after formatting:\n",
      "\u001b[32;1m\u001b[1;3mYou are an task creation AI that uses the result of an execution agent to create new tasks with the following objective: Write a weather report for SF today, The last completed task has the result: Today in San Francisco, temperatures will be in the mid to upper 40s. Tomorrow will be partly cloudy to mostly sunny, with highs ranging from upper 50s at the coast to mid 60s near the bay to around 70 degrees inland. Southwest winds will be 5 to 15 mph. Friday night will be mostly cloudy with highs in the mid 50s to the lower 60s. There is a chance of up to half an inch of rain possible along parts of the coast while inland residents can expect anywhere from a trace to a tenth of an inch.. This result was based on this task description: Gather data on precipitation, cloud cover, and other relevant weather conditions. These are incomplete tasks: Analyze the data to determine any upcoming weather changes, Research current weather forecasts for SF, Create a visual representation of the weather report, Write a conclusion for the weather report, Format the report for publication, Submit the report to a weather service for review, Publish the report on a website or other platform. Based on the result, create new tasks to be completed by the AI system that do not overlap with incomplete tasks. Return the tasks as an array.\u001b[0m\n",
      "\n",
      "\u001b[1m> Finished chain.\u001b[0m\n",
      "\n",
      "\n",
      "\u001b[1m> Entering new TaskPrioritizationChain chain...\u001b[0m\n",
      "Prompt after formatting:\n",
      "\u001b[32;1m\u001b[1;3mYou are a task prioritization AI tasked with cleaning the formatting of and reprioritizing the following tasks: ['Analyze the data to determine any upcoming weather changes', 'Research current weather forecasts for SF', 'Create a visual representation of the weather report', 'Write a conclusion for the weather report', 'Format the report for publication', 'Submit the report to a weather service for review', 'Publish the report on a website or other platform', 'Tasks:', '1. Compare the current weather conditions to historical averages for San Francisco.', '2. Identify any potential hazards associated with the forecasted weather.', '3. Research any potential impacts of the forecasted weather on local businesses and activities.', '4. Identify any potential health risks associated with the forecasted weather.', '5. Research any potential impacts of the forecasted weather on local wildlife.', '6. Identify any potential impacts of the forecasted weather on air quality.', '7. Research any potential impacts of the forecasted weather on transportation.', '8. Identify any potential impacts of the forecasted weather on outdoor recreation.', '9. Research any potential impacts of the forecasted weather on local agriculture.', '10. Identify any potential impacts of the forecasted weather on energy consumption.']. Consider the ultimate objective of your team: Write a weather report for SF today. Do not remove any tasks. Return the result as a numbered list, like: #. First task #. Second task Start the task list with number 3.\u001b[0m\n",
      "\n",
      "\u001b[1m> Finished chain.\u001b[0m\n"
     ]
    },
    {
     "data": {
      "text/plain": [
       "{'objective': 'Write a weather report for SF today'}"
      ]
     },
     "execution_count": 8,
     "metadata": {},
     "output_type": "execute_result"
    }
   ],
   "source": [
    "baby_agi({\"objective\": OBJECTIVE})"
   ]
  },
  {
   "attachments": {},
   "cell_type": "markdown",
   "id": "bdf5f525",
   "metadata": {},
   "source": [
    "### Results\n",
    "\n",
    "- Results are stored in the PersistentBabyAGI's results variable"
   ]
  },
  {
   "cell_type": "code",
   "execution_count": 9,
   "id": "898a210b",
   "metadata": {},
   "outputs": [
    {
     "name": "stdout",
     "output_type": "stream",
     "text": [
      "Task Name: 1: Make a todo list\n",
      "\n",
      "Result: A todo list for writing a weather report for SF today includes: 1. Research current weather conditions in SF, 2. Gather data on temperature, humidity, wind speed, and other relevant weather conditions, 3. Research any upcoming weather changes, 4. Write a brief introduction to the weather report, 5. Describe current weather conditions in SF, 6. Discuss any upcoming weather changes, 7. Summarize the weather report, 8. Proofread and edit the report, and 9. Publish the report.\n",
      "\n",
      "\n",
      "Task Name: 2: Gather data on precipitation, cloud cover, and other relevant weather conditions\n",
      "\n",
      "Result: Today in San Francisco, temperatures will be in the mid to upper 40s. Tomorrow will be partly cloudy to mostly sunny, with highs ranging from upper 50s at the coast to mid 60s near the bay to around 70 degrees inland. Southwest winds will be 5 to 15 mph. Friday night will be mostly cloudy with highs in the mid 50s to the lower 60s. There is a chance of up to half an inch of rain possible along parts of the coast while inland residents can expect anywhere from a trace to a tenth of an inch.\n",
      "\n",
      "\n"
     ]
    }
   ],
   "source": [
    "for task_result in baby_agi.results:\n",
    "    print(f\"Task Name: {task_result.task_name}\\n\")\n",
    "    print(f\"Result: {task_result.result}\\n\\n\")"
   ]
  },
  {
   "attachments": {},
   "cell_type": "markdown",
   "id": "adb6d19e",
   "metadata": {},
   "source": [
    "### Persisting Task and Task Results via Vector Stores\n",
    "\n",
    "- Tasks and Task Results persist as Vector Stores in the instantiated PersistBabyAGI class"
   ]
  },
  {
   "cell_type": "code",
   "execution_count": 10,
   "id": "d40749c7",
   "metadata": {},
   "outputs": [],
   "source": [
    "def print_faiss_index(vectorstore):\n",
    "    num_vectors = vectorstore.index.ntotal\n",
    "    from colorama import Fore\n",
    "\n",
    "    # Loop through all the vectors and print them\n",
    "    for i in range(num_vectors):\n",
    "        vector = vectorstore.index.reconstruct(i)\n",
    "        doc = vectorstore.similarity_search_by_vector(vector, k=1)\n",
    "        header = f\"{doc[0].metadata['task_id']}: {doc[0].metadata['task_name']}\" if \"task_id\" in doc[0].metadata.keys() else f\"{doc[0].metadata}\"\n",
    "        print(Fore.GREEN + f\"{header}\\n\")\n",
    "        print(Fore.WHITE + f\"{doc[0].page_content}\\n\")"
   ]
  },
  {
   "attachments": {},
   "cell_type": "markdown",
   "id": "bbc9f718",
   "metadata": {},
   "source": [
    "#### Task Vector Store\n",
    "\n",
    "- The task_vectorstore Vector Store contains the task that have yet to be completed. Tasks 1 and 2 have been completed during the initial run."
   ]
  },
  {
   "cell_type": "code",
   "execution_count": 11,
   "id": "042972f9",
   "metadata": {},
   "outputs": [
    {
     "name": "stdout",
     "output_type": "stream",
     "text": [
      "\u001b[32m3: Analyze the data to determine any upcoming weather changes\n",
      "\n",
      "\u001b[37mAnalyze the data to determine any upcoming weather changes\n",
      "\n",
      "\u001b[32m4: Research current weather forecasts for SF\n",
      "\n",
      "\u001b[37mResearch current weather forecasts for SF\n",
      "\n",
      "\u001b[32m5: Compare the current weather conditions to historical averages for San Francisco.\n",
      "\n",
      "\u001b[37mCompare the current weather conditions to historical averages for San Francisco.\n",
      "\n",
      "\u001b[32m6: Identify any potential hazards associated with the forecasted weather.\n",
      "\n",
      "\u001b[37mIdentify any potential hazards associated with the forecasted weather.\n",
      "\n",
      "\u001b[32m7: Research any potential impacts of the forecasted weather on local businesses and activities.\n",
      "\n",
      "\u001b[37mResearch any potential impacts of the forecasted weather on local businesses and activities.\n",
      "\n",
      "\u001b[32m8: Identify any potential health risks associated with the forecasted weather.\n",
      "\n",
      "\u001b[37mIdentify any potential health risks associated with the forecasted weather.\n",
      "\n",
      "\u001b[32m9: Research any potential impacts of the forecasted weather on local wildlife.\n",
      "\n",
      "\u001b[37mResearch any potential impacts of the forecasted weather on local wildlife.\n",
      "\n",
      "\u001b[32m10: Identify any potential impacts of the forecasted weather on air quality.\n",
      "\n",
      "\u001b[37mIdentify any potential impacts of the forecasted weather on air quality.\n",
      "\n",
      "\u001b[32m11: Research any potential impacts of the forecasted weather on transportation.\n",
      "\n",
      "\u001b[37mResearch any potential impacts of the forecasted weather on transportation.\n",
      "\n",
      "\u001b[32m12: Identify any potential impacts of the forecasted weather on outdoor recreation.\n",
      "\n",
      "\u001b[37mIdentify any potential impacts of the forecasted weather on outdoor recreation.\n",
      "\n",
      "\u001b[32m13: Research any potential impacts of the forecasted weather on local agriculture.\n",
      "\n",
      "\u001b[37mResearch any potential impacts of the forecasted weather on local agriculture.\n",
      "\n",
      "\u001b[32m14: Identify any potential impacts of the forecasted weather on energy consumption.\n",
      "\n",
      "\u001b[37mIdentify any potential impacts of the forecasted weather on energy consumption.\n",
      "\n",
      "\u001b[32m15: Create a visual representation of the weather report\n",
      "\n",
      "\u001b[37mCreate a visual representation of the weather report\n",
      "\n",
      "\u001b[32m16: Write a conclusion for the weather report\n",
      "\n",
      "\u001b[37mWrite a conclusion for the weather report\n",
      "\n",
      "\u001b[32m17: Format the report for publication\n",
      "\n",
      "\u001b[37mFormat the report for publication\n",
      "\n",
      "\u001b[32m18: Submit the report to a weather service for review\n",
      "\n",
      "\u001b[37mSubmit the report to a weather service for review\n",
      "\n",
      "\u001b[32m19: Publish the report on a website or other platform\n",
      "\n",
      "\u001b[37mPublish the report on a website or other platform\n",
      "\n"
     ]
    }
   ],
   "source": [
    "print_faiss_index(baby_agi.task_vectorstore)"
   ]
  },
  {
   "attachments": {},
   "cell_type": "markdown",
   "id": "bbe15251",
   "metadata": {},
   "source": [
    "#### Task Results Vector Store\n",
    "\n",
    "- The task_results Vector Store contains the task that have been completed (tasks 1 and 2)."
   ]
  },
  {
   "cell_type": "code",
   "execution_count": 12,
   "id": "db4eef64",
   "metadata": {},
   "outputs": [
    {
     "name": "stdout",
     "output_type": "stream",
     "text": [
      "\u001b[32m1: Make a todo list\n",
      "\n",
      "\u001b[37mA todo list for writing a weather report for SF today includes: 1. Research current weather conditions in SF, 2. Gather data on temperature, humidity, wind speed, and other relevant weather conditions, 3. Research any upcoming weather changes, 4. Write a brief introduction to the weather report, 5. Describe current weather conditions in SF, 6. Discuss any upcoming weather changes, 7. Summarize the weather report, 8. Proofread and edit the report, and 9. Publish the report.\n",
      "\n",
      "\u001b[32m2: Gather data on precipitation, cloud cover, and other relevant weather conditions\n",
      "\n",
      "\u001b[37mToday in San Francisco, temperatures will be in the mid to upper 40s. Tomorrow will be partly cloudy to mostly sunny, with highs ranging from upper 50s at the coast to mid 60s near the bay to around 70 degrees inland. Southwest winds will be 5 to 15 mph. Friday night will be mostly cloudy with highs in the mid 50s to the lower 60s. There is a chance of up to half an inch of rain possible along parts of the coast while inland residents can expect anywhere from a trace to a tenth of an inch.\n",
      "\n"
     ]
    }
   ],
   "source": [
    "print_faiss_index(baby_agi.task_result_vectorstore)"
   ]
  },
  {
   "attachments": {},
   "cell_type": "markdown",
   "id": "7676c224",
   "metadata": {},
   "source": [
    "#### Saving the Vector Stores\n",
    "- The task and task results Vectorstores can be saved to a local directory."
   ]
  },
  {
   "cell_type": "code",
   "execution_count": 13,
   "id": "db2b8d38",
   "metadata": {},
   "outputs": [],
   "source": [
    "task_vectorstore_dir = \"./task_vectorstore\"\n",
    "task_results_vectorstore_dir = \"./task_results_vectorstore\"\n",
    "\n",
    "baby_agi.task_vectorstore.save_local(task_vectorstore_dir)\n",
    "baby_agi.task_result_vectorstore.save_local(task_results_vectorstore_dir)"
   ]
  },
  {
   "attachments": {},
   "cell_type": "markdown",
   "id": "ba494a34",
   "metadata": {},
   "source": [
    "### Pick up where you left off\n",
    "\n",
    "PersistBabyAGI controller provides you the capability to continue running from where it left off."
   ]
  },
  {
   "attachments": {},
   "cell_type": "markdown",
   "id": "53a669a1",
   "metadata": {},
   "source": [
    "#### Loading Vector Stores\n",
    "\n",
    "- First load the saved task and task results Vectorstores."
   ]
  },
  {
   "cell_type": "code",
   "execution_count": 14,
   "id": "323b6890",
   "metadata": {},
   "outputs": [],
   "source": [
    "task_vectorstore = FAISS.load_local(task_vectorstore_dir, baby_agi.task_embeddings)\n",
    "task_results_vectorstore = FAISS.load_local(task_results_vectorstore_dir, baby_agi.task_embeddings)"
   ]
  },
  {
   "attachments": {},
   "cell_type": "markdown",
   "id": "cdaf6737",
   "metadata": {},
   "source": [
    "#### Class Instantiation\n",
    "\n",
    "- Instantiate PersistBabyAGI with the Vector Stores"
   ]
  },
  {
   "cell_type": "code",
   "execution_count": 15,
   "id": "e46e7ac3",
   "metadata": {},
   "outputs": [],
   "source": [
    "persistent_baby_agi = PersistentBabyAGI.from_llm_and_vectorstores(\n",
    "    llm=llm,\n",
    "    execution_chain=execution_chain,\n",
    "    verbose=verbose,\n",
    "    max_iterations=max_iterations,\n",
    "    task_embeddings=baby_agi.task_embeddings,\n",
    "    task_vectorstore=task_vectorstore,\n",
    "    task_result_vectorstore=task_results_vectorstore\n",
    ")"
   ]
  },
  {
   "attachments": {},
   "cell_type": "markdown",
   "id": "ea892d2a",
   "metadata": {},
   "source": [
    "### Follo Up Run - PersistBabyAGI\n",
    "\n",
    "- And continue on your merry way from where the controller left off"
   ]
  },
  {
   "cell_type": "code",
   "execution_count": 16,
   "id": "b22bcd8d",
   "metadata": {},
   "outputs": [
    {
     "name": "stdout",
     "output_type": "stream",
     "text": [
      "\n",
      "\n",
      "\u001b[1m> Entering new AgentExecutor chain...\u001b[0m\n",
      "\u001b[32;1m\u001b[1;3mThought: I need to analyze the data to determine any upcoming weather changes\n",
      "Action: DuckDuckGo Search\n",
      "Action Input: SF weather forecast\u001b[0m\n",
      "Observation: \u001b[36;1m\u001b[1;3mSan Francisco Weather Forecasts. Weather Underground provides local & long-range weather forecasts, weatherreports, maps & tropical weather conditions for the San Francisco area. Monday evening First Alert Weather forecast - 5/8/23. with Paul Heggen. 4H ago. 03:26. AccuWeather Forecast: Partly cloudy morning, brighter and pleasant afternoon ... San Francisco 61. Oakland 64. San Jose 67. Concord 69. ... Weather Radar: LiveDoppler7 radar images. The National Weather Service forecast for Monday for the greater San Francisco Bay Area calls for a chance of rain in the morning, before becoming sunny with highs in the 50s and 60s. San Francisco, CA - Weather forecast from Theweather.com. Weather conditions with updates on temperature, humidity, wind speed, snow, pressure, etc. for San Francisco ...\u001b[0m\n",
      "Thought:\u001b[32;1m\u001b[1;3m I now know the final answer\n",
      "Final Answer: The weather in San Francisco today will be partly cloudy in the morning, becoming sunny with highs in the 50s and 60s. There is a chance of rain in the morning.\u001b[0m\n",
      "\n",
      "\u001b[1m> Finished chain.\u001b[0m\n",
      "\n",
      "\n",
      "\u001b[1m> Entering new TaskCreationChain chain...\u001b[0m\n",
      "Prompt after formatting:\n",
      "\u001b[32;1m\u001b[1;3mYou are an task creation AI that uses the result of an execution agent to create new tasks with the following objective: Write a weather report for SF today, The last completed task has the result: The weather in San Francisco today will be partly cloudy in the morning, becoming sunny with highs in the 50s and 60s. There is a chance of rain in the morning.. This result was based on this task description: Analyze the data to determine any upcoming weather changes. These are incomplete tasks: Research current weather forecasts for SF, Compare the current weather conditions to historical averages for San Francisco., Identify any potential hazards associated with the forecasted weather., Research any potential impacts of the forecasted weather on local businesses and activities., Identify any potential health risks associated with the forecasted weather., Research any potential impacts of the forecasted weather on local wildlife., Identify any potential impacts of the forecasted weather on air quality., Research any potential impacts of the forecasted weather on transportation., Identify any potential impacts of the forecasted weather on outdoor recreation., Research any potential impacts of the forecasted weather on local agriculture., Identify any potential impacts of the forecasted weather on energy consumption., Create a visual representation of the weather report, Write a conclusion for the weather report, Format the report for publication, Submit the report to a weather service for review, Publish the report on a website or other platform. Based on the result, create new tasks to be completed by the AI system that do not overlap with incomplete tasks. Return the tasks as an array.\u001b[0m\n",
      "\n",
      "\u001b[1m> Finished chain.\u001b[0m\n",
      "\n",
      "\n",
      "\u001b[1m> Entering new TaskPrioritizationChain chain...\u001b[0m\n",
      "Prompt after formatting:\n",
      "\u001b[32;1m\u001b[1;3mYou are a task prioritization AI tasked with cleaning the formatting of and reprioritizing the following tasks: ['Research current weather forecasts for SF', 'Compare the current weather conditions to historical averages for San Francisco.', 'Identify any potential hazards associated with the forecasted weather.', 'Research any potential impacts of the forecasted weather on local businesses and activities.', 'Identify any potential health risks associated with the forecasted weather.', 'Research any potential impacts of the forecasted weather on local wildlife.', 'Identify any potential impacts of the forecasted weather on air quality.', 'Research any potential impacts of the forecasted weather on transportation.', 'Identify any potential impacts of the forecasted weather on outdoor recreation.', 'Research any potential impacts of the forecasted weather on local agriculture.', 'Identify any potential impacts of the forecasted weather on energy consumption.', 'Create a visual representation of the weather report', 'Write a conclusion for the weather report', 'Format the report for publication', 'Submit the report to a weather service for review', 'Publish the report on a website or other platform', 'Tasks:', '1. Analyze the data to determine any upcoming weather changes in other cities.', '2. Compare the current weather conditions in San Francisco to other cities.', '3. Identify any potential impacts of the forecasted weather on local economies.', '4. Research any potential impacts of the forecasted weather on tourism.', '5. Identify any potential impacts of the forecasted weather on public health.', '6. Research any potential impacts of the forecasted weather on water resources.', '7. Identify any potential impacts of the forecasted weather on air quality in other cities.', '8. Research any potential impacts of the forecasted weather on transportation in other cities.', '9. Identify any potential impacts of the forecasted weather on outdoor recreation in other cities.', '10. Research any potential impacts of the forecasted weather on local agriculture in other cities.', '11. Identify any potential impacts of the forecasted weather on energy consumption in other cities.', '12. Create a visual representation of the weather report for other cities.', '13. Write a conclusion for the weather report for other cities.', '14. Format the report for publication for other cities.', '15. Submit the report to a weather service for review for other cities']. Consider the ultimate objective of your team: Write a weather report for SF today. Do not remove any tasks. Return the result as a numbered list, like: #. First task #. Second task Start the task list with number 4.\u001b[0m\n",
      "\n",
      "\u001b[1m> Finished chain.\u001b[0m\n",
      "\n",
      "\n",
      "\u001b[1m> Entering new AgentExecutor chain...\u001b[0m\n",
      "\u001b[32;1m\u001b[1;3mThought: I should gather data on precipitation, cloud cover, and other relevant weather conditions\n",
      "Action: DuckDuckGo Search\n",
      "Action Input: SF weather forecast\u001b[0m\n",
      "Observation: \u001b[36;1m\u001b[1;3mSan Francisco Weather Forecasts. Weather Underground provides local & long-range weather forecasts, weatherreports, maps & tropical weather conditions for the San Francisco area. A gloomy start to the week is forecast to turn into some of the best Bay Area weather this year. ... San Francisco, CA 94104 Phone: 415-359-2600 Email: ... Monday evening First Alert Weather forecast - 5/8/23. with Paul Heggen. 4H ago. 03:26. AccuWeather Forecast: Partly cloudy morning, brighter and pleasant afternoon ... San Francisco 61. Oakland 64. San Jose 67. Concord 69. ... Weather Radar: LiveDoppler7 radar images. San Francisco, CA - Weather forecast from Theweather.com. Weather conditions with updates on temperature, humidity, wind speed, snow, pressure, etc. for San Francisco ...\u001b[0m\n",
      "Thought:\u001b[32;1m\u001b[1;3m I now know the final answer\n",
      "Final Answer: The weather in San Francisco today will be partly cloudy in the morning, with a brighter and pleasant afternoon. Temperatures will range from 61 degrees in San Francisco to 69 degrees in Concord. There is no precipitation forecasted.\u001b[0m\n",
      "\n",
      "\u001b[1m> Finished chain.\u001b[0m\n",
      "\n",
      "\n",
      "\u001b[1m> Entering new TaskCreationChain chain...\u001b[0m\n",
      "Prompt after formatting:\n",
      "\u001b[32;1m\u001b[1;3mYou are an task creation AI that uses the result of an execution agent to create new tasks with the following objective: Write a weather report for SF today, The last completed task has the result: The weather in San Francisco today will be partly cloudy in the morning, with a brighter and pleasant afternoon. Temperatures will range from 61 degrees in San Francisco to 69 degrees in Concord. There is no precipitation forecasted.. This result was based on this task description: Research current weather forecasts for SF. These are incomplete tasks: Compare the current weather conditions to historical averages for San Francisco., Identify any potential hazards associated with the forecasted weather., Research any potential impacts of the forecasted weather on local businesses and activities., Identify any potential health risks associated with the forecasted weather., Research any potential impacts of the forecasted weather on local wildlife., Identify any potential impacts of the forecasted weather on air quality., Research any potential impacts of the forecasted weather on transportation., Identify any potential impacts of the forecasted weather on outdoor recreation., Research any potential impacts of the forecasted weather on local agriculture., Identify any potential impacts of the forecasted weather on energy consumption., Create a visual representation of the weather report, Write a conclusion for the weather report, Format the report for publication, Submit the report to a weather service for review, Publish the report on a website or other platform, Analyze the data to determine any upcoming weather changes in. Based on the result, create new tasks to be completed by the AI system that do not overlap with incomplete tasks. Return the tasks as an array.\u001b[0m\n",
      "\n",
      "\u001b[1m> Finished chain.\u001b[0m\n",
      "\n",
      "\n",
      "\u001b[1m> Entering new TaskPrioritizationChain chain...\u001b[0m\n",
      "Prompt after formatting:\n",
      "\u001b[32;1m\u001b[1;3mYou are a task prioritization AI tasked with cleaning the formatting of and reprioritizing the following tasks: ['Compare the current weather conditions to historical averages for San Francisco.', 'Identify any potential hazards associated with the forecasted weather.', 'Research any potential impacts of the forecasted weather on local businesses and activities.', 'Identify any potential health risks associated with the forecasted weather.', 'Research any potential impacts of the forecasted weather on local wildlife.', 'Identify any potential impacts of the forecasted weather on air quality.', 'Research any potential impacts of the forecasted weather on transportation.', 'Identify any potential impacts of the forecasted weather on outdoor recreation.', 'Research any potential impacts of the forecasted weather on local agriculture.', 'Identify any potential impacts of the forecasted weather on energy consumption.', 'Create a visual representation of the weather report', 'Write a conclusion for the weather report', 'Format the report for publication', 'Submit the report to a weather service for review', 'Publish the report on a website or other platform', 'Analyze the data to determine any upcoming weather changes in', 'Tasks:', '1. Research the historical accuracy of weather forecasts for San Francisco.', '2. Identify any potential impacts of the forecasted weather on local water resources.', '3. Research any potential impacts of the forecasted weather on public health.', '4. Analyze the data to determine any potential changes in the forecasted weather.', '5. Create a summary of the weather report.', '6. Identify any potential impacts of the forecasted weather on public safety.', '7. Research any potential impacts of the forecasted weather on local businesses.', '8. Identify any potential impacts of the forecasted weather on tourism.', '9. Research any potential impacts of the forecasted weather on local infrastructure.', '10. Identify any potential impacts of the forecasted weather on air travel.']. Consider the ultimate objective of your team: Write a weather report for SF today. Do not remove any tasks. Return the result as a numbered list, like: #. First task #. Second task Start the task list with number 5.\u001b[0m\n",
      "\n",
      "\u001b[1m> Finished chain.\u001b[0m\n"
     ]
    },
    {
     "data": {
      "text/plain": [
       "{'objective': 'Write a weather report for SF today'}"
      ]
     },
     "execution_count": 16,
     "metadata": {},
     "output_type": "execute_result"
    }
   ],
   "source": [
    "persistent_baby_agi({\"objective\": OBJECTIVE})"
   ]
  },
  {
   "attachments": {},
   "cell_type": "markdown",
   "id": "df18ae5a",
   "metadata": {},
   "source": [
    "### PersistBabyAGI - New Task Results\n",
    "\n",
    "- BabyAGI continued to action and completed task 3 and 4 (from the previous run of tasks 1 and 2)"
   ]
  },
  {
   "cell_type": "code",
   "execution_count": 17,
   "id": "74662a14",
   "metadata": {},
   "outputs": [
    {
     "name": "stdout",
     "output_type": "stream",
     "text": [
      "Task Name: 3: Analyze the data to determine any upcoming weather changes\n",
      "\n",
      "Result: The weather in San Francisco today will be partly cloudy in the morning, becoming sunny with highs in the 50s and 60s. There is a chance of rain in the morning.\n",
      "\n",
      "\n",
      "Task Name: 4: Research current weather forecasts for SF\n",
      "\n",
      "Result: The weather in San Francisco today will be partly cloudy in the morning, with a brighter and pleasant afternoon. Temperatures will range from 61 degrees in San Francisco to 69 degrees in Concord. There is no precipitation forecasted.\n",
      "\n",
      "\n"
     ]
    }
   ],
   "source": [
    "for task_result in persistent_baby_agi.results:\n",
    "    print(f\"Task Name: {task_result.task_name}\\n\")\n",
    "    print(f\"Result: {task_result.result}\\n\\n\")"
   ]
  },
  {
   "attachments": {},
   "cell_type": "markdown",
   "id": "809d5024",
   "metadata": {},
   "source": [
    "### PersistBabyAGI - Updated Task Results Vector Store\n",
    "\n",
    "- The controller had also updated the task results vector store with newly completed tasks 3 and 4."
   ]
  },
  {
   "cell_type": "code",
   "execution_count": 18,
   "id": "4d53dcfa",
   "metadata": {},
   "outputs": [
    {
     "name": "stdout",
     "output_type": "stream",
     "text": [
      "\u001b[32m1: Make a todo list\n",
      "\n",
      "\u001b[37mA todo list for writing a weather report for SF today includes: 1. Research current weather conditions in SF, 2. Gather data on temperature, humidity, wind speed, and other relevant weather conditions, 3. Research any upcoming weather changes, 4. Write a brief introduction to the weather report, 5. Describe current weather conditions in SF, 6. Discuss any upcoming weather changes, 7. Summarize the weather report, 8. Proofread and edit the report, and 9. Publish the report.\n",
      "\n",
      "\u001b[32m2: Gather data on precipitation, cloud cover, and other relevant weather conditions\n",
      "\n",
      "\u001b[37mToday in San Francisco, temperatures will be in the mid to upper 40s. Tomorrow will be partly cloudy to mostly sunny, with highs ranging from upper 50s at the coast to mid 60s near the bay to around 70 degrees inland. Southwest winds will be 5 to 15 mph. Friday night will be mostly cloudy with highs in the mid 50s to the lower 60s. There is a chance of up to half an inch of rain possible along parts of the coast while inland residents can expect anywhere from a trace to a tenth of an inch.\n",
      "\n",
      "\u001b[32m3: Analyze the data to determine any upcoming weather changes\n",
      "\n",
      "\u001b[37mThe weather in San Francisco today will be partly cloudy in the morning, becoming sunny with highs in the 50s and 60s. There is a chance of rain in the morning.\n",
      "\n",
      "\u001b[32m4: Research current weather forecasts for SF\n",
      "\n",
      "\u001b[37mThe weather in San Francisco today will be partly cloudy in the morning, with a brighter and pleasant afternoon. Temperatures will range from 61 degrees in San Francisco to 69 degrees in Concord. There is no precipitation forecasted.\n",
      "\n"
     ]
    }
   ],
   "source": [
    "print_faiss_index(persistent_baby_agi.task_result_vectorstore)"
   ]
  },
  {
   "attachments": {},
   "cell_type": "markdown",
   "id": "db85a970",
   "metadata": {},
   "source": [
    "### PersistBabyAGI - Updated Task Vector Store\n",
    "\n",
    "- And removed completed tasks 3 and 4 from the task Vector Store"
   ]
  },
  {
   "cell_type": "code",
   "execution_count": 19,
   "id": "6a17969d",
   "metadata": {},
   "outputs": [
    {
     "name": "stdout",
     "output_type": "stream",
     "text": [
      "\u001b[32m5: Compare the current weather conditions to historical averages for San Francisco.\n",
      "\n",
      "\u001b[37mCompare the current weather conditions to historical averages for San Francisco.\n",
      "\n",
      "\u001b[32m6: Identify any potential hazards associated with the forecasted weather.\n",
      "\n",
      "\u001b[37mIdentify any potential hazards associated with the forecasted weather.\n",
      "\n",
      "\u001b[32m7: Research any potential impacts of the forecasted weather on local businesses and activities.\n",
      "\n",
      "\u001b[37mResearch any potential impacts of the forecasted weather on local businesses and activities.\n",
      "\n",
      "\u001b[32m8: Identify any potential health risks associated with the forecasted weather.\n",
      "\n",
      "\u001b[37mIdentify any potential health risks associated with the forecasted weather.\n",
      "\n",
      "\u001b[32m9: Research any potential impacts of the forecasted weather on local wildlife.\n",
      "\n",
      "\u001b[37mResearch any potential impacts of the forecasted weather on local wildlife.\n",
      "\n",
      "\u001b[32m10: Identify any potential impacts of the forecasted weather on air quality.\n",
      "\n",
      "\u001b[37mIdentify any potential impacts of the forecasted weather on air quality.\n",
      "\n",
      "\u001b[32m11: Research any potential impacts of the forecasted weather on transportation.\n",
      "\n",
      "\u001b[37mResearch any potential impacts of the forecasted weather on transportation.\n",
      "\n",
      "\u001b[32m12: Identify any potential impacts of the forecasted weather on outdoor recreation.\n",
      "\n",
      "\u001b[37mIdentify any potential impacts of the forecasted weather on outdoor recreation.\n",
      "\n",
      "\u001b[32m13: Research any potential impacts of the forecasted weather on local agriculture.\n",
      "\n",
      "\u001b[37mResearch any potential impacts of the forecasted weather on local agriculture.\n",
      "\n",
      "\u001b[32m14: Identify any potential impacts of the forecasted weather on energy consumption.\n",
      "\n",
      "\u001b[37mIdentify any potential impacts of the forecasted weather on energy consumption.\n",
      "\n",
      "\u001b[32m15: Create a visual representation of the weather report\n",
      "\n",
      "\u001b[37mCreate a visual representation of the weather report\n",
      "\n",
      "\u001b[32m16: Write a summary of the weather report\n",
      "\n",
      "\u001b[37mWrite a summary of the weather report\n",
      "\n",
      "\u001b[32m17: Write a conclusion for the weather report\n",
      "\n",
      "\u001b[37mWrite a conclusion for the weather report\n",
      "\n",
      "\u001b[32m18: Format the report for publication\n",
      "\n",
      "\u001b[37mFormat the report for publication\n",
      "\n",
      "\u001b[32m19: Submit the report to a weather service for review\n",
      "\n",
      "\u001b[37mSubmit the report to a weather service for review\n",
      "\n",
      "\u001b[32m20: Publish the report on a website or other platform\n",
      "\n",
      "\u001b[37mPublish the report on a website or other platform\n",
      "\n",
      "\u001b[32m21: Analyze the data to determine any upcoming weather changes in\n",
      "\n",
      "\u001b[37mAnalyze the data to determine any upcoming weather changes in\n",
      "\n",
      "\u001b[32m22: Research the historical accuracy of weather forecasts for San Francisco.\n",
      "\n",
      "\u001b[37mResearch the historical accuracy of weather forecasts for San Francisco.\n",
      "\n"
     ]
    }
   ],
   "source": [
    "print_faiss_index(persistent_baby_agi.task_vectorstore)"
   ]
  }
 ],
 "metadata": {
  "kernelspec": {
   "display_name": "Python 3.10.7 64-bit",
   "language": "python",
   "name": "python3"
  },
  "language_info": {
   "codemirror_mode": {
    "name": "ipython",
    "version": 3
   },
   "file_extension": ".py",
   "mimetype": "text/x-python",
   "name": "python",
   "nbconvert_exporter": "python",
   "pygments_lexer": "ipython3",
   "version": "3.10.7"
  },
  "vscode": {
   "interpreter": {
    "hash": "44a9cdcbdccbf05a880e90d2e6fe72470baab4d1b82472d890be0596ed887a6b"
   }
  }
 },
 "nbformat": 4,
 "nbformat_minor": 5
}
