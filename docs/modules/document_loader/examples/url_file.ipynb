{
 "cells": [
  {
   "cell_type": "markdown",
   "metadata": {},
   "source": [
    "# URL File Loader\n",
    "\n",
    "The notebook showcases how to use the UnstructuredURLFileLoader class.\n",
    "\n",
    "It loads url web content of various types (i.e. html, pdf or json)."
   ]
  },
  {
   "cell_type": "code",
   "execution_count": 2,
   "metadata": {},
   "outputs": [
    {
     "name": "stdout",
     "output_type": "stream",
     "text": [
      "[Document(page_content=\"Top Stories\\n\\nLooking back: LeBron James' career as he turns 37\\n\\nThe Lakers' superstar has crafted an NBA legacy chock full of championships, trophies and more.\\n\\nFrom NBA.com Staff\\n\\nLeBron James has amassed an impressive career as he celebrates his 37th birthday.\\n\\nIncluding the playoffs, no one in the NBA scored more points than LeBron James in the last 10 years. He started the decade 124th on the league’s all-time scoring list. He now ranks No. 3 on the all-time scoring list and No. 2 Karl Malone and No. 1 Kareem Abdul-Jabbar are well within reach.\\n\\nAs he turns 37 today, James is just a few months removed from being named to the NBA’s 75th Anniversary Team and a year removed from being named the Associated Press’ male athlete of the decade for a record-tying fourth time. To date, he has four NBA championships, four Finals MVPs, four NBA MVPs, 17 All-NBA selections, 17 All-Star selections, the 2003-04 Rookie of the Year award and three All-Star MVPs, too. He has left an indelible mark on three NBA franchises — the Cleveland Cavaliers, the Miami Heat and now, the Los Angeles Lakers — while piling up all manner of statistical milestones along the way.\\n\\nTake a look back at each of the milestone baskets from LeBron James' career.\\n\\nThere are the eight straight Finals trips, the ending of Cleveland’s championship drought and so many more moments that have made James an icon in NBA lore. Here’s a look back at some of the plays and on-court moments that marked James’ success in each of those stops.\\n\\nLeBron’s first Cleveland era\\n\\nWhen: 2003-04 to 2009-10\\n\\nLeBron’s regular-season stats: 27.8 ppg, 7.0 rpg, 7.0 apg, 1.7 spg\\n\\nLeBron’s playoff stats: 29.3 ppg, 8.4 rpg, 7.3 apg, 1.6 spg, 1.0 bpg (2006-10)\\n\\nLeBron’s championships: Zero (lost 4-0 to Spurs in 2007 Finals)\\n\\nThe buzz: From winning Rookie of the Year to amassing the first two of his five career MVPs, LeBron showed glimpses of what he was capable of during his first stint with the Cavaliers. Although he’d fail to taste championship glory, his efforts to merely get the Cavs to the 2007 Finals — specifically his epic Game 5 against the Pistons in the East finals — was the stuff of legend.\\n\\nIn the 2007 postseason -- in what was his second playoff run overall -- LeBron James carried the Cavs to their first Finals appearance.\\n\\nLeBron’s Heat era\\n\\nWhen: 2010-11 to 2013-14\\n\\nLeBron’s regular-season stats: 26.9 ppg, 7.6 rpg, 6.7 apg, 1.7 spg\\n\\nLeBron’s playoff stats: 26.9 ppg, 8.4 rpg, 5.7 apg, 1.8 spg\\n\\nLeBron’s championships: Two (beat Thunder 4-1 in 2012 Finals; beat Spurs 4-3 in 2013 Finals)\\n\\nThe buzz: The 2010s for James started with “The Decision,” the widely criticized televised announcement of his choice to leave Cleveland for Miami. He was with the Heat for four years, went to the NBA Finals all four times with Dwyane Wade and Chris Bosh, finally won the title in 2012 and led the way in a Game 7 win over San Antonio to go back-to-back the following year.\\n\\nIn 2012 and '13, LeBron James led Miami to NBA titles.\\n\\nLeBron’s second Cleveland era\\n\\nWhen: 2014-15 to 2017-18\\n\\nLeBron’s regular-season stats: 26.1 ppg, 7.7 rpg, 8.0, 1.4 spg\\n\\nLeBron’s playoff stats: 30.8 ppg, 9.8 rpg, 8.2 apg, 1.8 spg, 1.2 bpg\\n\\nLeBron’s championships: One (beat Warriors 4-3 in 2016 Finals)\\n\\nThe buzz: James returned home in 2014, took Cleveland to four consecutive finals, then led the Cavaliers to the 2016 title and came up with one of the biggest plays of his life by pulling off a chase-down block of Golden State’s Andre Iguodala in the final seconds of Game 7 of that series.\\n\\nRelive Game 7 of the 2016 NBA Finals where the Cavs beat the Warriors in an epic Game 7.\\n\\nLeBron’s Lakers era\\n\\nWhen: 2018-19 to present\\n\\nLeBron’s regular-season stats: 25.9 ppg, 7.7 rpg, 8.8 apg, 1.2 spg (through Dec. 29, 2021)\\n\\nLeBron’s playoff stats: 26.7 ppg, 10.0 rpg, 8.6 apg, 1.3 spg\\n\\nLeBron’s championships: One (beat Heat 4-2 in 2020 Finals)\\n\\nThe buzz: The legacy James will leave with the Lakers is still being written, but one chapter is certain: leading L.A. to a championship in 2020 during the NBA’s restart in Orlando. Amidst the coronavirus pandemic that year, James led the Lakers to the top of the heap in a season and playoffs like no other, all while collecting Finals MVP honors. That came during a prolonged season in which he passed both Michael Jordan and later, Kobe Bryant, on the all-time scoring list. He led the league in assists and finished second in Kia MVP voting, too.\\n\\nRelive the Lakers' run to the title with a look at the Game 6 Finals Mini-Movie.\\n\\nInformation from The Associated Press was used in this report.\\n\\nRelated\\n\\nArchive 75: LeBron JamesThe 'King' of the NBA was destined for greatness right from the start.\\n\\nLeBron’s greatness not enough for LakersL.A.'s star forward plumbing near-unprecedented depths of production for a 19th-year veteran, but seems unable to elevate these Lakers.\\n\\nWill LeBron pass Kareem? Watching more NBA recordsWith Stephen Curry recently breaking the NBA's 3-point record, it's time to examine other key milestones.\\n\\nLeBron collects 100th career triple-doubleOnly four players nearly synonymous with triple-doubles have more of them than LeBron James.\\n\\nArchive 75: LeBron James\\n\\nThe 'King' of the NBA was destined for greatness right from the start.\\n\\nLeBron’s greatness not enough for Lakers\\n\\nL.A.'s star forward plumbing near-unprecedented depths of production for a 19th-year veteran, but seems unable to elevate these Lakers.\\n\\nWill LeBron pass Kareem? Watching more NBA records\\n\\nWith Stephen Curry recently breaking the NBA's 3-point record, it's time to examine other key milestones.\\n\\nLeBron collects 100th career triple-double\\n\\nOnly four players nearly synonymous with triple-doubles have more of them than LeBron James.\\n\\nArchive 75: LeBron JamesThe 'King' of the NBA was destined for greatness right from the start.\\n\\nDecember 22, 2021\\n\\nLeBron’s greatness not enough for LakersL.A.'s star forward plumbing near-unprecedented depths of production for a 19th-year veteran, but seems unable to elevate these Lakers.\\n\\nDecember 25, 2021\\n\\nWill LeBron pass Kareem? Watching more NBA recordsWith Stephen Curry recently breaking the NBA's 3-point record, it's time to examine other key milestones.\\n\\nDecember 18, 2021\\n\\nLeBron collects 100th career triple-doubleOnly four players nearly synonymous with triple-doubles have more of them than LeBron James.\\n\\nDecember 10, 2021\\n\\nWhat to watch for in BAL's Nile ConferenceCheck out key storylines to follow as Basketball Africa League resumes with Nile Conference action on April 26.\\n\\n1 hour ago\\n\\nHawks' Murray suspended for making contact with refereeMurray will serve his 1-game suspension when Atlanta visits Boston for Tuesday's Game 5 of the opening round series.\\n\\n2 hours ago\\n\\nStats Breakdown: Making the leapComparing the finalists for the Kia Most Improved Player with interactive stats visuals.\\n\\n2 hours ago\\n\\nNBA Fan Favorites for 2022-23 season: Voting now openVote on the best moments, plays and more from the 2022-23 season.\\n\\n3 hours ago\\n\\nReports: Fox (finger) doubtful for Game 5Sacramento's All-Star guard reportedly sustained the injury during the 4th quarter on Sunday.\\n\\n4 hours ago\\n\\nThe BAL announces Nile Conference rostersThe group phase will tip off on April 26 in Cairo.\\n\\n4 hours ago\", metadata={'source': 'https://www.nba.com/news/lebron-james-career-highlights'})]\n"
     ]
    }
   ],
   "source": [
    "import nest_asyncio\n",
    "\n",
    "\n",
    "from slangchain.document_loaders.url_file import UnstructuredURLFileLoader\n",
    "\n",
    "# Allows multi-threaded code to run on a notebook \n",
    "nest_asyncio.apply()\n",
    "\n",
    "# Chunk size for the url content.\n",
    "chunk_size = 100\n",
    "chunk_overlap = 50\n",
    "# Threshold to filter in the contexts that are higher than the value. THe value range is 0.0 - 1.0\n",
    "similarity_threshold = 0.5\n",
    "\n",
    "loader = UnstructuredURLFileLoader(\n",
    "  urls=[\"https://www.nba.com/news/lebron-james-career-highlights\"],\n",
    "  headless=True\n",
    ")\n",
    "content = loader.load()\n",
    "print(content)"
   ]
  }
 ],
 "metadata": {
  "kernelspec": {
   "display_name": "Python 3 (ipykernel)",
   "language": "python",
   "name": "python3"
  },
  "language_info": {
   "codemirror_mode": {
    "name": "ipython",
    "version": 3
   },
   "file_extension": ".py",
   "mimetype": "text/x-python",
   "name": "python",
   "nbconvert_exporter": "python",
   "pygments_lexer": "ipython3",
   "version": "3.10.7"
  },
  "vscode": {
   "interpreter": {
    "hash": "44a9cdcbdccbf05a880e90d2e6fe72470baab4d1b82472d890be0596ed887a6b"
   }
  }
 },
 "nbformat": 4,
 "nbformat_minor": 2
}
